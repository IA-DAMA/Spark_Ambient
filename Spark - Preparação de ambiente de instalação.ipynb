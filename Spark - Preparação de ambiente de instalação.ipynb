!apt-get install openjdk-8-jdk-headless -qq > /dev/null
!wget -q https://www.apache.org/dyn/closer.lua/spark/spark-3.2.4/spark-3.2.4-bin-hadoop3.2.tgz
!pip install -q findspark
!pip install -q pyspark
!pip install pyspark
from pyspark.sql import SparkSession
spark = SparkSession.builder.master("local[*]").getOrCreate()
dataset = spark.read.csv('/content/sample_data/california_housing_test.csv',inferSchema=True, header =True)
dataset.printSchema()
spark.stop()

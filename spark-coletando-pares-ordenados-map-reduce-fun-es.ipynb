!pip install pyspark
from pyspark import SparkContext
spark_contexto = SparkContext()
lista = [1, 2, 3, 4, 5, 3]
lista_rdd = spark_contexto.parallelize(lista)
lista_rdd.count()
par_ordenado = lambda numero: (numero, numero*10)
lista_rdd.flatMap(par_ordenado).collect()
lista_rdd.map(par_ordenado).collect()
spark_contexto.stop()
